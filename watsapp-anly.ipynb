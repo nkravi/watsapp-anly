{
 "cells": [
  {
   "cell_type": "markdown",
   "metadata": {},
   "source": [
    "## WatsApp Analytics"
   ]
  },
  {
   "cell_type": "code",
   "execution_count": 2,
   "metadata": {
    "collapsed": false
   },
   "outputs": [
    {
     "name": "stdout",
     "output_type": "stream",
     "text": [
      "There are 5845 chats\n"
     ]
    }
   ],
   "source": [
    "#import data\n",
    "import codecs\n",
    "dat = codecs.open('chat.txt', encoding='utf-8')\n",
    "lines = dat.readlines()\n",
    "print('There are %d chats'%(len(lines)))"
   ]
  },
  {
   "cell_type": "code",
   "execution_count": 15,
   "metadata": {
    "collapsed": false
   },
   "outputs": [
    {
     "name": "stdout",
     "output_type": "stream",
     "text": [
      "sample line - 6/22/17, 4:22 PM - nirmal kumar ravi: Yes\n",
      "\n",
      "There are 5617 lines after processing\n"
     ]
    }
   ],
   "source": [
    "#process lines\n",
    "\n",
    "def process_lines(line):\n",
    "    d=line.split('-')\n",
    "    m=[]\n",
    "    if len(d) == 2:\n",
    "        m=d[1].split(':')\n",
    "    if len(d) == 2 and len(m)==2:\n",
    "        return (d[0],m[0],m[1])\n",
    "    return ()\n",
    "\n",
    "print('sample line - %s'%(lines[4]))\n",
    "#<date>-<name>:<text>\n",
    "processed_lines = [process_lines(line) for line in lines]\n",
    "processed_lines = list(filter(lambda x: len(x)==3,processed_lines))\n",
    "print('There are %d lines after processing'%(len(processed_lines)))"
   ]
  },
  {
   "cell_type": "code",
   "execution_count": 19,
   "metadata": {
    "collapsed": false
   },
   "outputs": [],
   "source": [
    "# convert date string to date\n",
    "from datetime import datetime as dt\n",
    "\n",
    "def datestr_to_date(date_str):\n",
    "    date_str = date_str.strip()\n",
    "    date_obj = dt.strptime(date_str, '%m/%d/%y, %I:%M %p')\n",
    "    return date_obj\n",
    "\n",
    "processed_lines = [(datestr_to_date(t[0]),t[1],t[2]) for t in processed_lines]      "
   ]
  },
  {
   "cell_type": "code",
   "execution_count": 23,
   "metadata": {
    "collapsed": false
   },
   "outputs": [
    {
     "data": {
      "text/plain": [
       "(datetime.datetime(2017, 6, 22, 16, 22), u'Ramana infy', u'Fraudu payale')"
      ]
     },
     "execution_count": 23,
     "metadata": {},
     "output_type": "execute_result"
    }
   ],
   "source": [
    "# strip spaces in name and message\n",
    "processed_lines = [(t[0],t[1].strip(),t[2].strip()) for t in processed_lines]\n",
    "processed_lines[4]"
   ]
  },
  {
   "cell_type": "code",
   "execution_count": 24,
   "metadata": {
    "collapsed": false
   },
   "outputs": [
    {
     "data": {
      "text/plain": [
       "{u'Deepa infy',\n",
       " u'Ragapraba infy',\n",
       " u'Ramana infy',\n",
       " u'Suren infy',\n",
       " u'nirmal kumar ravi'}"
      ]
     },
     "execution_count": 24,
     "metadata": {},
     "output_type": "execute_result"
    }
   ],
   "source": [
    "# see all names\n",
    "set(t[1] for t in processed_lines)"
   ]
  },
  {
   "cell_type": "markdown",
   "metadata": {},
   "source": [
    "### Lets do some charts"
   ]
  },
  {
   "cell_type": "code",
   "execution_count": 47,
   "metadata": {
    "collapsed": true
   },
   "outputs": [],
   "source": [
    "#some required libs\n",
    "%matplotlib inline\n",
    "import pandas as pd\n",
    "import numpy as np\n",
    "import matplotlib.pyplot as plt"
   ]
  },
  {
   "cell_type": "code",
   "execution_count": 31,
   "metadata": {
    "collapsed": false
   },
   "outputs": [
    {
     "data": {
      "text/html": [
       "<div>\n",
       "<style>\n",
       "    .dataframe thead tr:only-child th {\n",
       "        text-align: right;\n",
       "    }\n",
       "\n",
       "    .dataframe thead th {\n",
       "        text-align: left;\n",
       "    }\n",
       "\n",
       "    .dataframe tbody tr th {\n",
       "        vertical-align: top;\n",
       "    }\n",
       "</style>\n",
       "<table border=\"1\" class=\"dataframe\">\n",
       "  <thead>\n",
       "    <tr style=\"text-align: right;\">\n",
       "      <th></th>\n",
       "      <th>date</th>\n",
       "      <th>names</th>\n",
       "      <th>message</th>\n",
       "    </tr>\n",
       "  </thead>\n",
       "  <tbody>\n",
       "    <tr>\n",
       "      <th>0</th>\n",
       "      <td>2017-06-22 16:20:00</td>\n",
       "      <td>nirmal kumar ravi</td>\n",
       "      <td>Hi</td>\n",
       "    </tr>\n",
       "    <tr>\n",
       "      <th>1</th>\n",
       "      <td>2017-06-22 16:22:00</td>\n",
       "      <td>Deepa infy</td>\n",
       "      <td>Number mathita</td>\n",
       "    </tr>\n",
       "    <tr>\n",
       "      <th>2</th>\n",
       "      <td>2017-06-22 16:22:00</td>\n",
       "      <td>nirmal kumar ravi</td>\n",
       "      <td>Yes</td>\n",
       "    </tr>\n",
       "  </tbody>\n",
       "</table>\n",
       "</div>"
      ],
      "text/plain": [
       "                 date              names         message\n",
       "0 2017-06-22 16:20:00  nirmal kumar ravi              Hi\n",
       "1 2017-06-22 16:22:00         Deepa infy  Number mathita\n",
       "2 2017-06-22 16:22:00  nirmal kumar ravi             Yes"
      ]
     },
     "execution_count": 31,
     "metadata": {},
     "output_type": "execute_result"
    }
   ],
   "source": [
    "df = pd.DataFrame(processed_lines)\n",
    "df.columns = ['date','names','message']\n",
    "df.head(3)"
   ]
  },
  {
   "cell_type": "markdown",
   "metadata": {},
   "source": [
    "### who has sent most messages?"
   ]
  },
  {
   "cell_type": "code",
   "execution_count": 37,
   "metadata": {
    "collapsed": false
   },
   "outputs": [],
   "source": [
    "count_df = df.groupby(['names']).agg(['count'])\n"
   ]
  },
  {
   "cell_type": "code",
   "execution_count": 70,
   "metadata": {
    "collapsed": false
   },
   "outputs": [
    {
     "data": {
      "image/png": "[encoded data removed]",
      "text/plain": [
       "<matplotlib.figure.Figure at 0xd632710>"
      ]
     },
     "metadata": {},
     "output_type": "display_data"
    }
   ],
   "source": [
    "names = list(count_df.index)\n",
    "count = list(count_df['message']['count'])\n",
    "lables = []\n",
    "for i in range(0,len(names)):\n",
    "    lables.append('%s- [%d]'%(names[i],count[i]))\n",
    "plt.title('who has sent most messages?')\n",
    "plt.pie(count,labels=lables)\n",
    "plt.show()"
   ]
  },
  {
   "cell_type": "markdown",
   "metadata": {},
   "source": [
    "### messages sent by month"
   ]
  },
  {
   "cell_type": "code",
   "execution_count": 120,
   "metadata": {
    "collapsed": false
   },
   "outputs": [
    {
     "data": {
      "text/plain": [
       "Text(0,0.5,u'No of messages')"
      ]
     },
     "execution_count": 120,
     "metadata": {},
     "output_type": "execute_result"
    },
    {
     "data": {
      "image/png": "[encoded data removed]",
      "text/plain": [
       "<matplotlib.figure.Figure at 0xa66eb38>"
      ]
     },
     "metadata": {},
     "output_type": "display_data"
    }
   ],
   "source": [
    "count_message_by_month_df = df.groupby(df.date.dt.month).count()['message']\n",
    "msg_plt = count_message_by_month_df.plot(kind='bar',title='Messages sent by month')\n",
    "msg_plt.set_xlabel('Month')\n",
    "msg_plt.set_ylabel('No of messages')"
   ]
  },
  {
   "cell_type": "markdown",
   "metadata": {},
   "source": [
    "### messsages sent by hour"
   ]
  },
  {
   "cell_type": "code",
   "execution_count": 124,
   "metadata": {
    "collapsed": false
   },
   "outputs": [
    {
     "data": {
      "text/plain": [
       "Text(0,0.5,u'No of messages')"
      ]
     },
     "execution_count": 124,
     "metadata": {},
     "output_type": "execute_result"
    },
    {
     "data": {
      "image/png": "[encoded data removed]",
      "text/plain": [
       "<matplotlib.figure.Figure at 0xf59a128>"
      ]
     },
     "metadata": {},
     "output_type": "display_data"
    }
   ],
   "source": [
    "count_message_by_hour_df = df.groupby(df.date.dt.hour).count()['message']\n",
    "msg_plt = count_message_by_hour_df.plot(kind='barh',title='Messages sent by hour')\n",
    "msg_plt.set_xlabel('Hour')\n",
    "msg_plt.set_ylabel('No of messages')"
   ]
  },
  {
   "cell_type": "markdown",
   "metadata": {},
   "source": [
    "### messages sent by day"
   ]
  },
  {
   "cell_type": "code",
   "execution_count": 130,
   "metadata": {
    "collapsed": false
   },
   "outputs": [
    {
     "data": {
      "text/plain": [
       "Text(0,0.5,u'No of messages')"
      ]
     },
     "execution_count": 130,
     "metadata": {},
     "output_type": "execute_result"
    },
    {
     "data": {
      "image/png": "[encoded data removed]",
      "text/plain": [
       "<matplotlib.figure.Figure at 0x104a09e8>"
      ]
     },
     "metadata": {},
     "output_type": "display_data"
    }
   ],
   "source": [
    "count_message_by_day_df = df.groupby(df.date.dt.dayofweek).count()['message']\n",
    "msg_plt = count_message_by_day_df.plot(kind='bar',title='Messages sent by day')\n",
    "msg_plt.set_xlabel('Day Monday=0 to Sunday=6')\n",
    "msg_plt.set_ylabel('No of messages')"
   ]
  },
  {
   "cell_type": "markdown",
   "metadata": {},
   "source": [
    "### Top 10 most message count dates "
   ]
  },
  {
   "cell_type": "code",
   "execution_count": 174,
   "metadata": {
    "collapsed": false
   },
   "outputs": [
    {
     "data": {
      "text/plain": [
       "date\n",
       "2017-09-10    153\n",
       "2017-10-24    146\n",
       "2017-10-29    146\n",
       "2017-08-05    129\n",
       "2017-09-12    128\n",
       "2017-06-28    127\n",
       "2017-10-19    118\n",
       "2017-06-24    109\n",
       "2017-09-09    107\n",
       "2017-10-07    105\n",
       "Name: message, dtype: int64"
      ]
     },
     "execution_count": 174,
     "metadata": {},
     "output_type": "execute_result"
    }
   ],
   "source": [
    "df.groupby(df.date.dt.date)['message'].count().nlargest(10)"
   ]
  },
  {
   "cell_type": "markdown",
   "metadata": {},
   "source": [
    "### Top 10 least message count dates "
   ]
  },
  {
   "cell_type": "code",
   "execution_count": 178,
   "metadata": {
    "collapsed": false
   },
   "outputs": [
    {
     "data": {
      "text/plain": [
       "date\n",
       "2017-07-31    1\n",
       "2017-10-10    1\n",
       "2017-07-01    2\n",
       "2017-07-20    3\n",
       "2017-07-25    3\n",
       "2017-07-04    4\n",
       "2017-09-23    4\n",
       "2017-10-22    4\n",
       "2017-10-03    5\n",
       "2017-08-08    6\n",
       "Name: message, dtype: int64"
      ]
     },
     "execution_count": 178,
     "metadata": {},
     "output_type": "execute_result"
    }
   ],
   "source": [
    "df.groupby(df.date.dt.date)['message'].count().nsmallest(10)"
   ]
  }
 ],
 "metadata": {
  "kernelspec": {
   "display_name": "Python [Root]",
   "language": "python",
   "name": "Python [Root]"
  },
  "language_info": {
   "codemirror_mode": {
    "name": "ipython",
    "version": 2
   },
   "file_extension": ".py",
   "mimetype": "text/x-python",
   "name": "python",
   "nbconvert_exporter": "python",
   "pygments_lexer": "ipython2",
   "version": "2.7.12"
  }
 },
 "nbformat": 4,
 "nbformat_minor": 0
}
